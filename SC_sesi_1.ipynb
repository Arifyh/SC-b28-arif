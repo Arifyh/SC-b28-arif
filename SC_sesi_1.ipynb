{
  "nbformat": 4,
  "nbformat_minor": 0,
  "metadata": {
    "colab": {
      "provenance": [],
      "toc_visible": true
    },
    "kernelspec": {
      "name": "python3",
      "display_name": "Python 3"
    },
    "language_info": {
      "name": "python"
    }
  },
  "cells": [
    {
      "cell_type": "code",
      "execution_count": null,
      "metadata": {
        "id": "1MLn4mIBiwQZ"
      },
      "outputs": [],
      "source": []
    },
    {
      "cell_type": "markdown",
      "source": [
        "acumalaka"
      ],
      "metadata": {
        "id": "IF0rEn8MjF9I"
      }
    },
    {
      "cell_type": "code",
      "source": [
        "print (\"Hai ganteng ror\")"
      ],
      "metadata": {
        "colab": {
          "base_uri": "https://localhost:8080/"
        },
        "id": "9HfiWt9cjRvm",
        "outputId": "409f710d-3b0c-4c6c-b34b-5a09de2d8d72"
      },
      "execution_count": null,
      "outputs": [
        {
          "output_type": "stream",
          "name": "stdout",
          "text": [
            "Hai ganteng ror\n"
          ]
        }
      ]
    },
    {
      "cell_type": "code",
      "source": [
        "import time\n",
        "print(time.ctime())"
      ],
      "metadata": {
        "colab": {
          "base_uri": "https://localhost:8080/"
        },
        "id": "BtYTca-ojsfw",
        "outputId": "f05c3155-3abc-47b4-80bd-794e2f64a062"
      },
      "execution_count": null,
      "outputs": [
        {
          "output_type": "stream",
          "name": "stdout",
          "text": [
            "Thu Feb  6 04:41:48 2025\n"
          ]
        }
      ]
    },
    {
      "cell_type": "code",
      "source": [
        "z = \"Hello\"\n",
        "y = 20\n",
        "c = 30.9\n",
        "f = ['apple', 'berry']\n",
        "\n",
        "z,y,c,f\n",
        "print(z,y,c,f)"
      ],
      "metadata": {
        "colab": {
          "base_uri": "https://localhost:8080/"
        },
        "id": "cO8mYR7-kOHa",
        "outputId": "7eb42b95-7810-4b90-9954-06a4dfcf66c6"
      },
      "execution_count": null,
      "outputs": [
        {
          "output_type": "execute_result",
          "data": {
            "text/plain": [
              "('noice', 69, 4.2, ['halo', 'manies'])"
            ]
          },
          "metadata": {},
          "execution_count": 8
        }
      ]
    },
    {
      "cell_type": "code",
      "source": [
        "o = int(1)\n",
        "y = int(2.8)\n",
        "z = int (\"3\")\n",
        "j = str(20)\n",
        "\n",
        "print (o,y,z,j)"
      ],
      "metadata": {
        "colab": {
          "base_uri": "https://localhost:8080/"
        },
        "id": "fNAJ6kTmlLpe",
        "outputId": "c33d91ba-d498-4562-b1be-5de0e370ddf9"
      },
      "execution_count": null,
      "outputs": [
        {
          "output_type": "stream",
          "name": "stdout",
          "text": [
            "1 2 3 20\n"
          ]
        }
      ]
    },
    {
      "cell_type": "code",
      "source": [
        "a  = \"Hello\"\n",
        "b = \" world\"\n",
        "c = a+b\n",
        "print(c)"
      ],
      "metadata": {
        "colab": {
          "base_uri": "https://localhost:8080/"
        },
        "id": "-lz_w7OOlu3h",
        "outputId": "e61fc672-8f34-44bb-e0f1-ea578e1eaa84"
      },
      "execution_count": null,
      "outputs": [
        {
          "output_type": "stream",
          "name": "stdout",
          "text": [
            "Hello world\n"
          ]
        }
      ]
    },
    {
      "cell_type": "code",
      "source": [
        "a = \"Hello World\"\n",
        "print(a[1])\n",
        "\n",
        "print(len(a))"
      ],
      "metadata": {
        "colab": {
          "base_uri": "https://localhost:8080/"
        },
        "id": "wfIaDzuOmAwC",
        "outputId": "c26636ba-eea1-4ad6-886b-5f9239356c2a"
      },
      "execution_count": null,
      "outputs": [
        {
          "output_type": "stream",
          "name": "stdout",
          "text": [
            "e\n",
            "11\n"
          ]
        }
      ]
    },
    {
      "cell_type": "code",
      "source": [
        "b = \"BINUS Univ\"\n",
        "print(b[2:5])\n",
        "\n",
        "c = \"BINUS Univ\"\n",
        "print(c[:5])\n",
        "\n",
        "d = \"BINUS Univ\"\n",
        "print(d[2:])"
      ],
      "metadata": {
        "colab": {
          "base_uri": "https://localhost:8080/"
        },
        "id": "-PKfZ64xmqb4",
        "outputId": "f6e37f21-83c9-4b35-ed05-3ead14bea46a"
      },
      "execution_count": null,
      "outputs": [
        {
          "output_type": "stream",
          "name": "stdout",
          "text": [
            "NUS\n",
            "BINUS\n",
            "NUS Univ\n"
          ]
        }
      ]
    },
    {
      "cell_type": "code",
      "source": [
        "a = \"Hello\"\n",
        "print(a.upper())\n",
        "\n",
        "b = \"Hello\"\n",
        "print(b.lower())\n",
        "\n",
        "c = \"Hello\"\n",
        "print(c.replace(\"H\", \"J\"))\n"
      ],
      "metadata": {
        "colab": {
          "base_uri": "https://localhost:8080/"
        },
        "id": "TrH8v20OneM6",
        "outputId": "712bf12f-e119-4982-d2b2-9f86a4dc952d"
      },
      "execution_count": null,
      "outputs": [
        {
          "output_type": "stream",
          "name": "stdout",
          "text": [
            "HELLO\n",
            "hello\n",
            "Jello\n"
          ]
        }
      ]
    },
    {
      "cell_type": "code",
      "source": [
        "nama = \"sam\"\n",
        "x= 19\n",
        "string = \"nama saya {} umur {}\"\n",
        "\n",
        "print(string.format(nama,x))"
      ],
      "metadata": {
        "colab": {
          "base_uri": "https://localhost:8080/"
        },
        "id": "wrj5msmVnwHx",
        "outputId": "0d8f12d6-9d80-452e-d727-7a68d3849487"
      },
      "execution_count": null,
      "outputs": [
        {
          "output_type": "stream",
          "name": "stdout",
          "text": [
            "nama saya sam umur 19\n"
          ]
        }
      ]
    },
    {
      "cell_type": "code",
      "source": [
        "nama =\"Grace\"\n",
        "for i in enumerate(nama):\n",
        "  print(i)\n",
        "\n",
        "\n"
      ],
      "metadata": {
        "colab": {
          "base_uri": "https://localhost:8080/"
        },
        "id": "fgUSmw4qorl1",
        "outputId": "a84826de-804d-40fa-c2f7-2e51ebee39e6"
      },
      "execution_count": null,
      "outputs": [
        {
          "output_type": "stream",
          "name": "stdout",
          "text": [
            "(0, 'G')\n",
            "(1, 'r')\n",
            "(2, 'a')\n",
            "(3, 'c')\n",
            "(4, 'e')\n"
          ]
        }
      ]
    },
    {
      "cell_type": "code",
      "source": [
        "def perbandingan (a,b):\n",
        "  if a>b:\n",
        "    print(\"a lebih dari b\")\n",
        "  elif a<b:\n",
        "    print(\"a kurang dari b\")\n",
        "  else:\n",
        "    print(\"a = b\")"
      ],
      "metadata": {
        "id": "UTMyTL63pnHy"
      },
      "execution_count": null,
      "outputs": []
    },
    {
      "cell_type": "code",
      "source": [
        "perbandingan(4,8)"
      ],
      "metadata": {
        "colab": {
          "base_uri": "https://localhost:8080/"
        },
        "id": "pfMBgLbOqEng",
        "outputId": "e32c6c3a-c5e3-4293-f62f-89f8c68258aa"
      },
      "execution_count": null,
      "outputs": [
        {
          "output_type": "stream",
          "name": "stdout",
          "text": [
            "a kurang dari b\n"
          ]
        }
      ]
    },
    {
      "cell_type": "code",
      "source": [
        "i = 1\n",
        "while i<6:\n",
        "  print(i)\n",
        "  i += 1"
      ],
      "metadata": {
        "colab": {
          "base_uri": "https://localhost:8080/"
        },
        "id": "a31oKkNCq1nK",
        "outputId": "abcde3ef-4bbd-463c-a93d-94a084642918"
      },
      "execution_count": null,
      "outputs": [
        {
          "output_type": "stream",
          "name": "stdout",
          "text": [
            "1\n",
            "2\n",
            "3\n",
            "4\n",
            "5\n"
          ]
        }
      ]
    },
    {
      "cell_type": "code",
      "source": [
        "i = 3\n",
        "for i in range(0,6):\n",
        "  print(i)\n"
      ],
      "metadata": {
        "colab": {
          "base_uri": "https://localhost:8080/"
        },
        "id": "_vV86mF2rSso",
        "outputId": "17fe2762-d4c2-4fa1-a2f9-b97d6ad96d36"
      },
      "execution_count": null,
      "outputs": [
        {
          "output_type": "stream",
          "name": "stdout",
          "text": [
            "0\n",
            "1\n",
            "2\n",
            "3\n",
            "4\n",
            "5\n"
          ]
        }
      ]
    },
    {
      "cell_type": "code",
      "source": [
        "for i in range(2,41):\n",
        "  if i % 2==0:\n",
        "    print(i,\"Genap\\n\")\n",
        "  else:\n",
        "    print(i,\"Ganjil\\n\")\n"
      ],
      "metadata": {
        "colab": {
          "base_uri": "https://localhost:8080/"
        },
        "id": "jE-Zu-13r34g",
        "outputId": "213e5456-15da-4ca6-88aa-67c90f746ba6"
      },
      "execution_count": null,
      "outputs": [
        {
          "output_type": "stream",
          "name": "stdout",
          "text": [
            "2 Genap\n",
            "\n",
            "3 Ganjil\n",
            "\n",
            "4 Genap\n",
            "\n",
            "5 Ganjil\n",
            "\n",
            "6 Genap\n",
            "\n",
            "7 Ganjil\n",
            "\n",
            "8 Genap\n",
            "\n",
            "9 Ganjil\n",
            "\n",
            "10 Genap\n",
            "\n",
            "11 Ganjil\n",
            "\n",
            "12 Genap\n",
            "\n",
            "13 Ganjil\n",
            "\n",
            "14 Genap\n",
            "\n",
            "15 Ganjil\n",
            "\n",
            "16 Genap\n",
            "\n",
            "17 Ganjil\n",
            "\n",
            "18 Genap\n",
            "\n",
            "19 Ganjil\n",
            "\n",
            "20 Genap\n",
            "\n",
            "21 Ganjil\n",
            "\n",
            "22 Genap\n",
            "\n",
            "23 Ganjil\n",
            "\n",
            "24 Genap\n",
            "\n",
            "25 Ganjil\n",
            "\n",
            "26 Genap\n",
            "\n",
            "27 Ganjil\n",
            "\n",
            "28 Genap\n",
            "\n",
            "29 Ganjil\n",
            "\n",
            "30 Genap\n",
            "\n",
            "31 Ganjil\n",
            "\n",
            "32 Genap\n",
            "\n",
            "33 Ganjil\n",
            "\n",
            "34 Genap\n",
            "\n",
            "35 Ganjil\n",
            "\n",
            "36 Genap\n",
            "\n",
            "37 Ganjil\n",
            "\n",
            "38 Genap\n",
            "\n",
            "39 Ganjil\n",
            "\n",
            "40 Genap\n",
            "\n"
          ]
        }
      ]
    },
    {
      "cell_type": "code",
      "source": [
        "import numpy as np"
      ],
      "metadata": {
        "id": "CM3m0bwxuwuV"
      },
      "execution_count": null,
      "outputs": []
    },
    {
      "cell_type": "code",
      "source": [
        "x = np.array([[1,2,3], [3,6,7]])\n",
        "x"
      ],
      "metadata": {
        "colab": {
          "base_uri": "https://localhost:8080/"
        },
        "id": "WqD6AsQXu_fc",
        "outputId": "f04ff6e1-9750-4b67-e4e0-82903856ac01"
      },
      "execution_count": null,
      "outputs": [
        {
          "output_type": "execute_result",
          "data": {
            "text/plain": [
              "array([[1, 2, 3],\n",
              "       [3, 6, 7]])"
            ]
          },
          "metadata": {},
          "execution_count": 54
        }
      ]
    },
    {
      "cell_type": "code",
      "source": [
        "y = np.array([[8,2,9], [3,5,7]])\n",
        "y"
      ],
      "metadata": {
        "colab": {
          "base_uri": "https://localhost:8080/"
        },
        "id": "Kuzvpl9KvfCE",
        "outputId": "8b2d1149-fece-41e2-eb6c-665c4e014645"
      },
      "execution_count": null,
      "outputs": [
        {
          "output_type": "execute_result",
          "data": {
            "text/plain": [
              "array([[8, 2, 9],\n",
              "       [3, 5, 7]])"
            ]
          },
          "metadata": {},
          "execution_count": 55
        }
      ]
    },
    {
      "cell_type": "code",
      "source": [
        "print(x+y)"
      ],
      "metadata": {
        "colab": {
          "base_uri": "https://localhost:8080/"
        },
        "id": "oXriYxuKvuIV",
        "outputId": "228774d3-76e5-49c5-ca9e-76b711d06866"
      },
      "execution_count": null,
      "outputs": [
        {
          "output_type": "stream",
          "name": "stdout",
          "text": [
            "[[ 9  4 12]\n",
            " [ 6 11 14]]\n"
          ]
        }
      ]
    },
    {
      "cell_type": "code",
      "source": [
        "data = np.array ([10,9,8,7,6,5])\n",
        "\n",
        "print(\"Rata-rata:\",np.mean(data))\n",
        "print(\"Maksimum:\",np.max(data))\n",
        "print(\"Minimum:\",np.min(data))\n",
        "print(\"Standar Devisiasi:\", np.std(data))"
      ],
      "metadata": {
        "colab": {
          "base_uri": "https://localhost:8080/"
        },
        "id": "pFFFQfTYwE0u",
        "outputId": "c1350010-fe95-4312-c0df-23cf121d5a75"
      },
      "execution_count": null,
      "outputs": [
        {
          "output_type": "stream",
          "name": "stdout",
          "text": [
            "Rata-rata: 7.5\n",
            "Maksimum: 10\n",
            "Minimum: 5\n",
            "standar Devisiasi: 1.707825127659933\n"
          ]
        }
      ]
    },
    {
      "cell_type": "code",
      "source": [],
      "metadata": {
        "id": "6gYoLLE9zfLR"
      },
      "execution_count": null,
      "outputs": []
    }
  ]
}