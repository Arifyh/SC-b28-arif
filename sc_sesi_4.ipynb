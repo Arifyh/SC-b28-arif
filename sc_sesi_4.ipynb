{
  "nbformat": 4,
  "nbformat_minor": 0,
  "metadata": {
    "colab": {
      "provenance": []
    },
    "kernelspec": {
      "name": "python3",
      "display_name": "Python 3"
    },
    "language_info": {
      "name": "python"
    }
  },
  "cells": [
    {
      "cell_type": "code",
      "execution_count": null,
      "metadata": {
        "id": "EMH4h5AhFcYo"
      },
      "outputs": [],
      "source": [
        "import numpy as np\n",
        "\n",
        "def my_bisection(f, a, b, tol):\n",
        "\n",
        "  if np.sign(f(a)) == np.sign(f(b)):\n",
        "    raise Exception(\n",
        "      \"The scalars a and b do not bound a root\"\n",
        "    )\n",
        "\n",
        "    #midpoint\n",
        "  m = (a + b)/2\n",
        "\n",
        "  if np.abs(f(m)) < tol:\n",
        "    return m\n",
        "  elif np.sign(f(a)) == np.sign(f(m)):\n",
        "    return my_bisection(f, m, b, tol)\n",
        "  elif np.sign(f(b)) == np.sign(f(m)):\n",
        "    return my_bisection(f, a, m, tol)\n"
      ]
    },
    {
      "cell_type": "code",
      "source": [
        "f = lambda x: x**2 - 2\n",
        "\n",
        "r1 = my_bisection(f, 0, 2, 0.1)\n",
        "print(\"r1 = \", r1)\n",
        "r01 = my_bisection(f, 0, 2, 0.01)\n",
        "print(\"r01 = \", r01)\n",
        "\n",
        "print(\"f(r1) = \", f(r1))\n",
        "print(\"f(r01) = \", f(r01))"
      ],
      "metadata": {
        "colab": {
          "base_uri": "https://localhost:8080/"
        },
        "id": "rzMB3alxHizt",
        "outputId": "e5e6ab17-e6fd-4e66-ec91-afab6a15dfd2"
      },
      "execution_count": null,
      "outputs": [
        {
          "output_type": "stream",
          "name": "stdout",
          "text": [
            "r1 =  1.4375\n",
            "r01 =  1.4140625\n",
            "f(r1) =  0.06640625\n",
            "f(r01) =  -0.00042724609375\n"
          ]
        }
      ]
    },
    {
      "cell_type": "code",
      "source": [
        "import numpy as np\n",
        "\n",
        "f = lambda x: x**2 - 2\n",
        "f_prime = lambda x: 2 * x\n",
        "newton_raphson = 1.4 - (f(1.4)/f_prime(1.4))\n",
        "\n",
        "print(\"newton_raphson = \", newton_raphson)\n",
        "print(\"sqrt(2) = \", np.sqrt(2))"
      ],
      "metadata": {
        "colab": {
          "base_uri": "https://localhost:8080/"
        },
        "id": "RhN1FV9xLqq6",
        "outputId": "1ac1cef2-bfc0-43c7-bfa6-b514a7f1d109"
      },
      "execution_count": null,
      "outputs": [
        {
          "output_type": "stream",
          "name": "stdout",
          "text": [
            "newton_raphson =  1.4142857142857144\n",
            "sqrt(2) =  1.4142135623730951\n"
          ]
        }
      ]
    },
    {
      "cell_type": "code",
      "source": [
        "def my_newton(f, df, x0, tol):\n",
        "  if abs(f(x0)) < tol:\n",
        "    return x0\n",
        "  else:\n",
        "    return my_newton(f, df, x0 - f(x0)/df(x0), tol)"
      ],
      "metadata": {
        "id": "2vuHjluENo7N"
      },
      "execution_count": null,
      "outputs": []
    },
    {
      "cell_type": "code",
      "source": [
        "f = lambda x: np.cos(x) - x\n",
        "\n",
        "r1 = my_bisection(f, 0, 1, 0.0001)\n",
        "print(\"r1 =\",r1)\n",
        "# r01 = my_bisection(f, 0, 1, 0.001)\n",
        "# print(\"r01 =\", r01)\n",
        "\n",
        "# print(\"f(r1)=\", f(r1))\n",
        "# print(\"f(r01)=\", f(r01))"
      ],
      "metadata": {
        "colab": {
          "base_uri": "https://localhost:8080/"
        },
        "id": "q29y0tstS56E",
        "outputId": "39df1e21-2720-46be-eb0c-ae93109b5385"
      },
      "execution_count": null,
      "outputs": [
        {
          "output_type": "stream",
          "name": "stdout",
          "text": [
            "r1 = 0.7391357421875\n"
          ]
        }
      ]
    },
    {
      "cell_type": "markdown",
      "source": [
        "modul\n",
        "\n",
        "Quiz Bisection\n",
        "\n",
        "f(x)= x^3 -3x^2 +2x\n",
        "\n",
        "[a,b] = [1,2]\n",
        "\n",
        "tol = 0.01\n",
        "\n",
        "f(x)= sin(x) - x\n",
        "\n",
        "[a,b] = [0,1]\n",
        "\n",
        "tol = 0.001"
      ],
      "metadata": {
        "id": "gYMb3JGWOrUT"
      }
    },
    {
      "cell_type": "code",
      "source": [
        "import numpy as np\n",
        "\n",
        "def my_bisection(f, a, b, tol):\n",
        "    if np.sign(f(a)) == np.sign(f(b)):\n",
        "        raise Exception(\"a dan b tidak mengapit akar\")\n",
        "\n",
        "    while (b - a) / 2 > tol:\n",
        "        m = (a + b) / 2\n",
        "        if f(m) == 0:\n",
        "            return m\n",
        "        elif np.sign(f(a)) == np.sign(f(m)):\n",
        "            a = m\n",
        "        else:\n",
        "            b = m\n",
        "    return (a + b) / 2"
      ],
      "metadata": {
        "id": "GlghMingOnMw"
      },
      "execution_count": 1,
      "outputs": []
    },
    {
      "cell_type": "code",
      "source": [
        "f = lambda x: x**3 - 3*x**2 + 2*x\n",
        "\n",
        "r1 = my_bisection(f, 1.2, 2, 0.01)\n",
        "print(\"r1 =\", r1)\n",
        "\n",
        "print(\"f(r1) =\", f(r1))"
      ],
      "metadata": {
        "colab": {
          "base_uri": "https://localhost:8080/"
        },
        "id": "qsP2sQ_KOygO",
        "outputId": "95d7acb4-f488-4a5d-94b1-04542dd9f4d3"
      },
      "execution_count": 2,
      "outputs": [
        {
          "output_type": "stream",
          "name": "stdout",
          "text": [
            "r1 = 1.99375\n",
            "f(r1) = -0.012383056640626222\n"
          ]
        }
      ]
    },
    {
      "cell_type": "code",
      "source": [
        "f = lambda x: np.sin(x) - x\n",
        "\n",
        "r1 = my_bisection(f, 0, 1, 0.001)\n",
        "print(\"r1 =\", r1)\n",
        "\n",
        "print(\"f(r1) =\", f(r1))"
      ],
      "metadata": {
        "colab": {
          "base_uri": "https://localhost:8080/"
        },
        "id": "wVRjaDpCO1Bg",
        "outputId": "eb1f2b44-49ac-4c28-97ac-ab0358d2fba4"
      },
      "execution_count": 3,
      "outputs": [
        {
          "output_type": "stream",
          "name": "stdout",
          "text": [
            "r1 = 0.0009765625\n",
            "f(r1) = -1.552204216938649e-10\n"
          ]
        }
      ]
    },
    {
      "cell_type": "markdown",
      "source": [
        "r1 = 0.125\n",
        "f(r1) = -0.0003252666147723071\n",
        "Quiz Newton-Raphson\n",
        "\n",
        "f(x) = x^3 - 3x^2 + 2x\n",
        "x0 = 1,5\n",
        "\n",
        "tol = 0.01\n",
        "f(x) = e^x - 2x\n",
        "x0 = 1\n",
        "\n",
        "tol = 0.001"
      ],
      "metadata": {
        "id": "-_20WvllO6u-"
      }
    },
    {
      "cell_type": "code",
      "source": [
        "def my_newton(f, df, x0, tol):\n",
        "    while abs(f(x0)) > tol:\n",
        "        x0 = x0 - f(x0) / df(x0)\n",
        "    return x0"
      ],
      "metadata": {
        "id": "9cmSVHb3O3-q"
      },
      "execution_count": 4,
      "outputs": []
    },
    {
      "cell_type": "code",
      "source": [
        "f = lambda x: x**3 - 3*x**2 + 2*x\n",
        "f_prime = lambda x: 3*x**2 - 6*x + 2\n",
        "\n",
        "result = my_newton(f, f_prime, 1.5, 0.01)\n",
        "print(\"Root:\", result)\n",
        "print(\"f(root) =\", f(result))"
      ],
      "metadata": {
        "colab": {
          "base_uri": "https://localhost:8080/"
        },
        "id": "Wx0nGwNLO9Bp",
        "outputId": "fd0a14bc-4856-4542-dfda-c9dcd130a8c7"
      },
      "execution_count": 5,
      "outputs": [
        {
          "output_type": "stream",
          "name": "stdout",
          "text": [
            "Root: 0.0\n",
            "f(root) = 0.0\n"
          ]
        }
      ]
    },
    {
      "cell_type": "code",
      "source": [
        "def my_newton(f, f_prime, x0, tol, iteration=100000):\n",
        "    for _ in range(iteration):\n",
        "        if abs(f(x0)) < tol:\n",
        "            return x0\n",
        "        x0 = x0 - f(x0)/f_prime(x0)\n",
        "    return x0\n",
        "\n",
        "f = lambda x: np.exp(x) - 2*x\n",
        "f_prime = lambda x: np.exp(x) - 2\n",
        "\n",
        "result = my_newton(f, f_prime, 1, 0.001)\n",
        "print(\"Root:\", result)\n",
        "print(\"f(root) =\", f(result))"
      ],
      "metadata": {
        "colab": {
          "base_uri": "https://localhost:8080/"
        },
        "id": "5MYjCc3XO-0_",
        "outputId": "2c5aa554-ecf6-4702-8979-479bd561b236"
      },
      "execution_count": 6,
      "outputs": [
        {
          "output_type": "stream",
          "name": "stdout",
          "text": [
            "Root: 1.0\n",
            "f(root) = 0.7182818284590451\n"
          ]
        }
      ]
    }
  ]
}